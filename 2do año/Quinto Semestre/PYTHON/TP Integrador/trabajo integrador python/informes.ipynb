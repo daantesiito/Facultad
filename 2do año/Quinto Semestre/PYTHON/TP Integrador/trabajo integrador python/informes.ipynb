{
 "cells": [
  {
   "cell_type": "markdown",
   "metadata": {},
   "source": [
    "# Informes de datasets modificados"
   ]
  },
  {
   "cell_type": "markdown",
   "metadata": {},
   "source": [
    "- Importamos los dos archivos desde la carpeta de __resources__"
   ]
  },
  {
   "cell_type": "code",
   "execution_count": null,
   "metadata": {},
   "outputs": [],
   "source": [
    "from resources import open_files as open\n",
    "from resources import functions as f\n",
    "from resources import validations as check"
   ]
  },
  {
   "cell_type": "markdown",
   "metadata": {},
   "source": [
    "## Ejercicios utilizados para informar \n",
    "    .   .   .   .   .   .   .   .   .   .   .   .   .   .   .   .   .   .   .   .   .   .   .   .   .   \n",
    "1. Los diferentes tipos de aeropuertos segun la columna _'type'_"
   ]
  },
  {
   "cell_type": "code",
   "execution_count": null,
   "metadata": {},
   "outputs": [],
   "source": [
    "reader = open.use_aeropuerto()\n",
    "\n",
    "airports = f.airport_types(reader)\n",
    "\n",
    "f.informar_airport_types(airports)"
   ]
  },
  {
   "cell_type": "markdown",
   "metadata": {},
   "source": [
    "    .   .   .   .   .   .   .   .   .   .   .   .   .   .   .   .   .   .   .   .   .   .   .   .   .   \n",
    "2. Le pido al usuario que ingrese una categoria de elevacion, y voy a imprimir todos los aeropuertos de dicha elevacion."
   ]
  },
  {
   "cell_type": "code",
   "execution_count": null,
   "metadata": {},
   "outputs": [],
   "source": [
    "reader = open.use_aeropuerto()\n",
    "\n",
    "elevation = input(\"Ingrese la elevacion de la cual quieras saber los aeropuertos, siendo las opciones (bajo, medio, alto)\")\n",
    "\n",
    "elevation_type = check.check_elevation_str(elevation.lower())\n",
    "\n",
    "airports_by_elevation = f.airports_type_elevation(reader, elevation_type)\n",
    "\n",
    "f.informar_airports_elevations(airports_by_elevation, elevation_type)"
   ]
  },
  {
   "cell_type": "markdown",
   "metadata": {},
   "source": [
    "    .   .   .   .   .   .   .   .   .   .   .   .   .   .   .   .   .   .   .   .   .   .   .   .   .   \n",
    "3. Le pido al usuario que ingrese una elevacion numerica y si quiere los mayores o menores y voy a imprimir todos los aeropuertos que cumplan la condicion"
   ]
  },
  {
   "cell_type": "code",
   "execution_count": null,
   "metadata": {},
   "outputs": [],
   "source": [
    "reader = open.use_aeropuerto()\n",
    "\n",
    "elevation = int (input('Ingrese la elevacion numerica (en pies) deseada para conocer los aeropuertos mayores o menores a la misma:'))\n",
    "elevation_ready = check.check_elevation_int(elevation)\n",
    "\n",
    "condition = input(f'''Ingrese \"mayor\" si quiere conocer los aeropuertos mayores a la {elevation}\n",
    "    o \"menor\" si quiere conocer los aeropuertos menores a la {elevation}''')\n",
    "condition_ready = check.check_condition(condition.lower())\n",
    "\n",
    "elevation_grater_or_less_than = f.airports_by_condition_elevation(reader, elevation_ready, condition_ready)\n",
    "\n",
    "\n",
    "f.informar_airports_elevations_condition(elevation_grater_or_less_than, elevation_ready, condition_ready)"
   ]
  },
  {
   "cell_type": "markdown",
   "metadata": {},
   "source": [
    "    .   .   .   .   .   .   .   .   .   .   .   .   .   .   .   .   .   .   .   .   .   .   .   .   .   \n",
    "4. Los aeropuertos, lagos y tipo de conectividad en provincias con población mayor o menor a un valor que se pueda especificar fácilmente"
   ]
  },
  {
   "cell_type": "code",
   "execution_count": null,
   "metadata": {},
   "outputs": [],
   "source": [
    "aeropuerto = open.use_aeropuerto()\n",
    "lagos = open.use_lagos()\n",
    "conectividad = open.use_conectividad()\n",
    "resumen_adaptado = open.use_resumen_adaptado()\n",
    "\n",
    "f.airports_lakes_connectivity_by_population(resumen_adaptado,aeropuerto,lagos,conectividad)"
   ]
  },
  {
   "cell_type": "markdown",
   "metadata": {},
   "source": [
    "    .   .   .   .   .   .   .   .   .   .   .   .   .   .   .   .   .   .   .   .   .   .   .   .   .   \n",
    "5. Mostrar los aeropuertos en las capitales de cada provincia."
   ]
  },
  {
   "cell_type": "code",
   "execution_count": null,
   "metadata": {},
   "outputs": [],
   "source": [
    "aeropuerto = open.use_aeropuerto()\n",
    "ar = open.use_ar()\n",
    "\n",
    "f.airports_in_capitals(ar,aeropuerto)"
   ]
  },
  {
   "cell_type": "markdown",
   "metadata": {},
   "source": [
    "    .   .   .   .   .   .   .   .   .   .   .   .   .   .   .   .   .   .   .   .   .   .   .   .   .   \n",
    "6. Mostrar los Lagos de una superficie según la columna 'Sup Tamaño' donde el criterio (chico, medio, grande) se puede indicar fácilmente."
   ]
  },
  {
   "cell_type": "code",
   "execution_count": null,
   "metadata": {},
   "outputs": [],
   "source": [
    "lagos = open.use_lagos()\n",
    "\n",
    "f.lakes_by_surface_area(lagos)"
   ]
  },
  {
   "cell_type": "markdown",
   "metadata": {},
   "source": [
    "    .   .   .   .   .   .   .   .   .   .   .   .   .   .   .   .   .   .   .   .   .   .   .   .   .   \n",
    "7. Se informa las 5 Jurisdicciones con mayor porcentaje de población en situación de calle."
   ]
  },
  {
   "cell_type": "code",
   "execution_count": null,
   "metadata": {},
   "outputs": [],
   "source": [
    "reader = open.use_resumen_adaptado()\n",
    "\n",
    "top5 = f.top5_juridicciones(reader)\n",
    "\n",
    "for jurisdiccion in (top5):  \n",
    "    print(f\"En la jurisdicción {jurisdiccion['Jurisdicción']}, el porcentaje de gente en situacion de calle es: {jurisdiccion['Porcentaje de poblacion en situacion de calle']}%\")"
   ]
  },
  {
   "cell_type": "markdown",
   "metadata": {},
   "source": [
    "    .   .   .   .   .   .   .   .   .   .   .   .   .   .   .   .   .   .   .   .   .   .   .   .   .   \n",
    "8. Encontrar la jurisdicción con la mayor brecha de población entre los sexos registrados al nacer e informar la jurisdiccion y la brecha poblacional."
   ]
  },
  {
   "cell_type": "code",
   "execution_count": null,
   "metadata": {},
   "outputs": [],
   "source": [
    "reader = open.use_resumen_adaptado() \n",
    "\n",
    "jurisdiccion, brecha = f.gender_gap(reader)\n",
    "\n",
    "print(f\"Jurisdicción con mayor brecha: {jurisdiccion}\")\n",
    "print(f\"Brecha poblacional de {jurisdiccion}: {brecha}\")"
   ]
  },
  {
   "cell_type": "markdown",
   "metadata": {},
   "source": [
    "    .   .   .   .   .   .   .   .   .   .   .   .   .   .   .   .   .   .   .   .   .   .   .   .   .  \n",
    "9. Obtener los distintos tipos de conexiones."
   ]
  },
  {
   "cell_type": "code",
   "execution_count": null,
   "metadata": {},
   "outputs": [],
   "source": [
    "reader = open.use_conectividad()\n",
    "\n",
    "conexiones = f.connection_types(reader)\n",
    "\n",
    "print('Tipos de conexiones: ', conexiones)"
   ]
  },
  {
   "cell_type": "markdown",
   "metadata": {},
   "source": [
    "    .   .   .   .   .   .   .   .   .   .   .   .   .   .   .   .   .   .   .   .   .   .   .   .   .  \n",
    "10. Mostrar las cantidades de localidades con cada tipo de conectividad."
   ]
  },
  {
   "cell_type": "code",
   "execution_count": null,
   "metadata": {},
   "outputs": [],
   "source": [
    "reader = open.use_conectividad()\n",
    "\n",
    "dic_cant_conectividades = f.cant_Localidades_Conectividad(reader)\n",
    "for conec in dic_cant_conectividades:\n",
    "    print(\"El tipo de conectividad\", conec, \"posee\", dic_cant_conectividades[conec], \"localidades con ese tipo de conectividad\")"
   ]
  },
  {
   "cell_type": "markdown",
   "metadata": {},
   "source": [
    "    .   .   .   .   .   .   .   .   .   .   .   .   .   .   .   .   .   .   .   .   .   .   .   .   .  \n",
    "11. Mostrar las provincias para las cuales todas sus ciudades poseen FIBRA ÓPTICA."
   ]
  },
  {
   "cell_type": "code",
   "execution_count": null,
   "metadata": {},
   "outputs": [],
   "source": [
    "readerc = open.use_conectividad()\n",
    "readerar = open.use_ar()\n",
    "\n",
    "f.provincias_ciudades_con_fibraoptica(readerar,readerc)"
   ]
  },
  {
   "cell_type": "markdown",
   "metadata": {},
   "source": [
    "    .   .   .   .   .   .   .   .   .   .   .   .   .   .   .   .   .   .   .   .   .   .   .   .   .  \n",
    "12. Mostrar para cada provincia su capital y, si se conoce la información para dicha capital, informar si posee conectividad"
   ]
  },
  {
   "cell_type": "code",
   "execution_count": null,
   "metadata": {},
   "outputs": [],
   "source": [
    "readerc = open.use_conectividad()\n",
    "readerar = open.use_ar()\n",
    "\n",
    "dic_cap_conec = f.provincias_capitales_conectividad(readerar,readerc)\n",
    "for prov in dic_cap_conec:\n",
    "    print(\"La provincia\", prov, \"cuya capital es\", dic_cap_conec[prov])"
   ]
  }
 ],
 "metadata": {
  "kernelspec": {
   "display_name": "Python 3 (ipykernel)",
   "language": "python",
   "name": "python3"
  },
  "language_info": {
   "codemirror_mode": {
    "name": "ipython",
    "version": 3
   },
   "file_extension": ".py",
   "mimetype": "text/x-python",
   "name": "python",
   "nbconvert_exporter": "python",
   "pygments_lexer": "ipython3",
   "version": "3.12.2"
  }
 },
 "nbformat": 4,
 "nbformat_minor": 4
}
