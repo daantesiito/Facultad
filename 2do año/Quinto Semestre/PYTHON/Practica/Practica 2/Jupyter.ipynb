{
 "cells": [
  {
   "cell_type": "markdown",
   "metadata": {},
   "source": [
    "Ejercicio 1:"
   ]
  },
  {
   "cell_type": "code",
   "execution_count": null,
   "metadata": {},
   "outputs": [],
   "source": [
    "text = \"\"\"\n",
    "Code of Conduct\n",
    "NumPy is a community-driven open source project developed by a diverse group of contributors. The NumPy leadership has made a strong commitment to creating an open, inclusive, and positive community. Please read the NumPy Code of Conduct for guidance on how to interact with others in a way that makes our community thrive.\n",
    "\n",
    "Call for Contributions\n",
    "The NumPy project welcomes your expertise and enthusiasm!\n",
    "\n",
    "Small improvements or fixes are always appreciated. If you are considering larger contributions to the source code, please contact us through the mailing list first.\n",
    "\n",
    "Writing code isn’t the only way to contribute to NumPy. You can also:\n",
    "\n",
    "review pull requests\n",
    "help us stay on top of new and old issues\n",
    "develop tutorials, presentations, and other educational materials\n",
    "maintain and improve our website\n",
    "develop graphic design for our brand assets and promotional materials\n",
    "translate website content\n",
    "help with outreach and onboard new contributors\n",
    "write grant proposals and help with other fundraising efforts\n",
    "For more information about the ways you can contribute to NumPy, visit our website. If you’re unsure where to start or how your skills fit in, reach out! You can ask on the mailing list or here, on GitHub, by opening a new issue or leaving a comment on a relevant issue that is already open.\n",
    "\n",
    "Our preferred channels of communication are all public, but if you’d like to speak to us in private first, contact our community coordinators at numpy-team@googlegroups.com or on Slack (write numpy-team@googlegroups.com for an invitation).\n",
    "\n",
    "We also have a biweekly community call, details of which are announced on the mailing list. You are very welcome to join.\n",
    "\n",
    "If you are new to contributing to open source, this guide helps explain why, what, and how to successfully get involved.\"\"\""
   ]
  },
  {
   "cell_type": "code",
   "execution_count": null,
   "metadata": {},
   "outputs": [],
   "source": [
    "lineas = text.split('\\n') ## Divide el texto por salto de linea y lo mete en una lista\n",
    "\n",
    "vowels = ['A','E','I','O','U','a','e','i','o','u']\n",
    "\n",
    "lineasConVocal = []\n",
    "\n",
    "for linea in lineas:\n",
    "    palabra = linea.split()\n",
    "    if len(palabra) > 1 and palabra[1][0] in vowels:\n",
    "        lineasConVocal.append(linea)\n",
    "\n",
    "for linea in lineasConVocal:\n",
    "    print(linea)\n"
   ]
  },
  {
   "cell_type": "markdown",
   "metadata": {},
   "source": [
    "Ejercicio 2:"
   ]
  },
  {
   "cell_type": "code",
   "execution_count": null,
   "metadata": {},
   "outputs": [],
   "source": [
    "from collections import Counter\n",
    "\n",
    "palabras = text.split()\n",
    "\n",
    "contador = Counter(palabras)\n",
    "\n",
    "max_palabra = ''\n",
    "max_cantidad = 0\n",
    "\n",
    "for palabra, cantidad in contador.items():\n",
    "    if len(palabra) > 4 and cantidad > max_cantidad:\n",
    "        max_palabra = palabra\n",
    "        max_cantidad = cantidad\n",
    "\n",
    "print(f'La palabra con 4 caracteres que mas aparece es: {max_palabra}, con {max_cantidad} veces')\n"
   ]
  },
  {
   "cell_type": "markdown",
   "metadata": {},
   "source": [
    "Ejercicio 3:"
   ]
  },
  {
   "cell_type": "code",
   "execution_count": null,
   "metadata": {},
   "outputs": [],
   "source": [
    "text = \"\"\" jupyter_info = JupyterLab is a web-based interactive development\n",
    "environment for Jupyter notebooks, code, and data. JupyterLab is\n",
    "flexible: configure and arrange the user interface to support a wide\n",
    "range of workflows in data science, scientific computing, and machine\n",
    "learning. JupyterLab is extensible and modular: write plugins that add\n",
    "new components and integrate with existing ones.\n",
    "\"\"\""
   ]
  },
  {
   "cell_type": "code",
   "execution_count": null,
   "metadata": {},
   "outputs": [],
   "source": [
    "letra = input('Ingrese una letra: ')\n",
    "\n",
    "palabras_con_input = []\n",
    "\n",
    "palabras = text.split()\n",
    "\n",
    "for palabra in palabras:\n",
    "    if letra in palabra:\n",
    "        palabras_con_input.append(palabra)\n",
    "\n",
    "print(f'Palabras con la letra {letra} en el texto son: ')\n",
    "for palabra in palabras_con_input:\n",
    "    print(palabra)\n"
   ]
  },
  {
   "cell_type": "markdown",
   "metadata": {},
   "source": [
    "Ejercicio 4:"
   ]
  },
  {
   "cell_type": "code",
   "execution_count": null,
   "metadata": {},
   "outputs": [],
   "source": [
    "word = input(\"Ingresá una palabra: \")\n",
    "if \"a\" in word:\n",
    "    print(\"Hay al menos una letra a.\")\n",
    "else:\n",
    "    print(\"No hay letras a. \")"
   ]
  },
  {
   "cell_type": "code",
   "execution_count": null,
   "metadata": {},
   "outputs": [],
   "source": [
    "word = input(\"Ingresá una palabra: \")\n",
    "if \"a\" in word:\n",
    "    if \"n\" in word:\n",
    "        print('Hay al menos una letra a y una letra n')\n",
    "    else:\n",
    "        print(\"Hay al menos una letra a.\")\n",
    "elif 'n' in word:\n",
    "    print('Hay almenos una letra n')"
   ]
  },
  {
   "cell_type": "markdown",
   "metadata": {},
   "source": [
    "Ejercicio 5:"
   ]
  },
  {
   "cell_type": "code",
   "execution_count": null,
   "metadata": {},
   "outputs": [],
   "source": [
    "article = \"\"\" titulo: Experiences in Developing a Distributed Agentbased Modeling Toolkit with Python Version 3\n",
    "resumen: Distributed agent-based modeling (ABM) on high-performance\n",
    "computing resources provides the promise of capturing unprecedented\n",
    "details of large-scale complex systems. However, the specialized\n",
    "knowledge required for developing such ABMs creates barriers to wider\n",
    "adoption and utilization. Here we present our experiences in\n",
    "developing an initial implementation of Repast4Py, a Python-based\n",
    "distributed ABM toolkit. We build on our experiences in developing ABM\n",
    "toolkits, including Repast for High Performance Computing (Repast\n",
    "HPC), to identify the key elements of a useful distributed ABM\n",
    "toolkit. We leverage the Numba, NumPy, and PyTorch packages and the\n",
    "Python C-API to create a scalable modeling system that can exploit the\n",
    "largest HPC resources and emerging computing architectures. \"\"\""
   ]
  },
  {
   "cell_type": "code",
   "execution_count": null,
   "metadata": {},
   "outputs": [],
   "source": [
    "parts = article.split('resumen:',1)\n",
    "\n",
    "title = parts[0].strip().replace('titulo:','').strip()\n",
    "resume = parts[1].strip().split('. ')"
   ]
  },
  {
   "cell_type": "markdown",
   "metadata": {},
   "source": [
    "Parte de titulo:"
   ]
  },
  {
   "cell_type": "code",
   "execution_count": null,
   "metadata": {},
   "outputs": [],
   "source": [
    "split_title = title.split()\n",
    "\n",
    "if len(split_title) > 10:\n",
    "    print('titulo: not ok')\n",
    "else:\n",
    "    print('titulo: ok')"
   ]
  },
  {
   "cell_type": "markdown",
   "metadata": {},
   "source": [
    "Parte de resumen:"
   ]
  },
  {
   "cell_type": "code",
   "execution_count": null,
   "metadata": {},
   "outputs": [],
   "source": [
    "easy = 0\n",
    "medium = 0\n",
    "hard = 0\n",
    "veryhard = 0\n",
    "\n",
    "for sentence in resume:\n",
    "    split_sentence = sentence.split()\n",
    "    if len(split_sentence) <= 12:\n",
    "        easy += 1\n",
    "    elif len(split_sentence) <= 17:\n",
    "        medium += 1\n",
    "    elif len(split_sentence) <= 25:\n",
    "        hard += 1\n",
    "    elif len(split_sentence) > 25:\n",
    "        veryhard += 1\n",
    "\n",
    "print(f'Cantidad de oraciones faciles de leer: {easy}, aceptables para leer: {medium}, dificil de leer: {hard} muy difícil de leer: {veryhard} ')"
   ]
  },
  {
   "cell_type": "markdown",
   "metadata": {},
   "source": [
    "Ejercicio 6:"
   ]
  },
  {
   "cell_type": "code",
   "execution_count": null,
   "metadata": {},
   "outputs": [],
   "source": [
    "frase = 'Tres tristes tigres, tragaban trigo en un trigal, en tres tristes trastos, tragaban trigo tres tristes tigres.'\n",
    "\n",
    "words = frase.lower().replace(',', '').replace('.','').split()"
   ]
  },
  {
   "cell_type": "code",
   "execution_count": null,
   "metadata": {},
   "outputs": [],
   "source": [
    "word = input('Ingrese una palabra: ').lower()\n",
    "\n",
    "cant = 0\n",
    "\n",
    "for w in words:\n",
    "    if word == w:\n",
    "        cant += 1\n",
    "\n",
    "print(cant)"
   ]
  },
  {
   "cell_type": "markdown",
   "metadata": {},
   "source": [
    "Ejercicio 7:"
   ]
  },
  {
   "cell_type": "code",
   "execution_count": null,
   "metadata": {},
   "outputs": [],
   "source": [
    "text = \"\"\" La brecha salarial alcanzó el 27,7%: las mujeres ocupadas\n",
    "debieron trabajar 8 días y 10 horas más que los varones ocupados para\n",
    "ganar lo mismo que ellos en un mes. \"\"\""
   ]
  },
  {
   "cell_type": "code",
   "execution_count": null,
   "metadata": {},
   "outputs": [],
   "source": [
    "counter = 0\n",
    "\n",
    "for char in text.replace(' ', ''):\n",
    "    if not char.isupper() and not char.islower():\n",
    "        counter += 1\n",
    "\n",
    "print(counter)"
   ]
  },
  {
   "cell_type": "markdown",
   "metadata": {},
   "source": [
    "Ejercicio 8:"
   ]
  },
  {
   "cell_type": "code",
   "execution_count": null,
   "metadata": {},
   "outputs": [],
   "source": [
    "from collections import Counter\n",
    "\n",
    "word = input('ingrese una frase o palabra: ')\n",
    "\n",
    "word = word.replace(' ', '')\n",
    "\n",
    "counter = Counter(word)\n",
    "\n",
    "sum = 0\n",
    "\n",
    "hete = True\n",
    "\n",
    "for char, num in counter.items():\n",
    "    if (char.isupper() or char.islower()) and (num > 1):\n",
    "        hete = False\n",
    "        break\n",
    "\n",
    "if hete == True:\n",
    "    print('si')\n",
    "else:\n",
    "    print('no')\n",
    "\n",
    "print(counter)\n"
   ]
  },
  {
   "cell_type": "markdown",
   "metadata": {},
   "source": [
    "Ejercicio 9:"
   ]
  },
  {
   "cell_type": "code",
   "execution_count": null,
   "metadata": {},
   "outputs": [],
   "source": [
    "values = {'A,E,I,O,U,L,N,R,S,T': 1, 'D,G': 2, 'B,C,M,P': 3, 'F,H,V,W,Y': 4, 'K': 5, 'J,X': 8, 'Q,Z': 10}"
   ]
  },
  {
   "cell_type": "code",
   "execution_count": null,
   "metadata": {},
   "outputs": [],
   "source": [
    "word = input('Ingrese una palabra: ').upper()\n",
    "\n",
    "total_value = 0\n",
    "\n",
    "for char in word:\n",
    "    for key in values:\n",
    "        if char in key:\n",
    "            total_value = total_value + values[key]\n",
    "            break\n",
    "\n",
    "print(total_value)"
   ]
  }
 ],
 "metadata": {
  "kernelspec": {
   "display_name": "Python 3",
   "language": "python",
   "name": "python3"
  },
  "language_info": {
   "codemirror_mode": {
    "name": "ipython",
    "version": 3
   },
   "file_extension": ".py",
   "mimetype": "text/x-python",
   "name": "python",
   "nbconvert_exporter": "python",
   "pygments_lexer": "ipython3",
   "version": "3.10.11"
  },
  "orig_nbformat": 4
 },
 "nbformat": 4,
 "nbformat_minor": 2
}
